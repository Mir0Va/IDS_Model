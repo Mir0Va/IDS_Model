{
 "cells": [
  {
   "cell_type": "code",
   "execution_count": 49,
   "metadata": {},
   "outputs": [],
   "source": [
    "from sklearn.dummy import DummyRegressor\n",
    "from sklearn.model_selection import train_test_split\n",
    "from sklearn.ensemble import RandomForestRegressor\n",
    "from sklearn.metrics import r2_score\n",
    "import pandas as pd\n",
    "import numpy as np\n"
   ]
  },
  {
   "cell_type": "code",
   "execution_count": 50,
   "metadata": {},
   "outputs": [],
   "source": [
    "df = pd.read_csv(\"citybikes_all_2016_2023.csv\")\n",
    "'''\n",
    "failed = []\n",
    "for u in df[\"Station id\"].unique():\n",
    "    try:\n",
    "        int(u)\n",
    "    except:\n",
    "        failed.append(u)\n",
    "df[\"Station id\"] = df[\"Station id\"].map({\"*71\":71,\"*88\":88}).fillna(df[\"Station id\"])\n",
    "print(df[\"Station id\"].unique())\n",
    "'''\n"
   ]
  },
  {
   "cell_type": "code",
   "execution_count": 52,
   "metadata": {},
   "outputs": [
    {
     "name": "stdout",
     "output_type": "stream",
     "text": [
      "<class 'pandas.core.frame.DataFrame'>\n",
      "RangeIndex: 18550810 entries, 0 to 18550809\n",
      "Data columns (total 15 columns):\n",
      " #   Column                Dtype  \n",
      "---  ------                -----  \n",
      " 0   Departure             object \n",
      " 1   Return                object \n",
      " 2   Departure station id  int64  \n",
      " 3   Return station id     int64  \n",
      " 4   Covered distance (m)  float64\n",
      " 5   Duration (sec.)       float64\n",
      " 6   Departure Weekday     int64  \n",
      " 7   Return Weekday        int64  \n",
      " 8   Departure Hour        int64  \n",
      " 9   Departure Month       int64  \n",
      " 10  Return Hour           int64  \n",
      " 11  Return Month          int64  \n",
      " 12  Year                  int64  \n",
      " 13  Departure Day         int64  \n",
      " 14  Return Day            int64  \n",
      "dtypes: float64(2), int64(11), object(2)\n",
      "memory usage: 2.1+ GB\n",
      "None\n"
     ]
    }
   ],
   "source": [
    "print(df.info())\n"
   ]
  },
  {
   "cell_type": "code",
   "execution_count": 53,
   "metadata": {},
   "outputs": [
    {
     "name": "stdout",
     "output_type": "stream",
     "text": [
      "<class 'pandas.core.frame.DataFrame'>\n",
      "RangeIndex: 18550810 entries, 0 to 18550809\n",
      "Data columns (total 15 columns):\n",
      " #   Column                Dtype  \n",
      "---  ------                -----  \n",
      " 0   Departure             object \n",
      " 1   Return                object \n",
      " 2   Departure station id  int64  \n",
      " 3   Return station id     int64  \n",
      " 4   Covered distance (m)  float64\n",
      " 5   Duration (sec.)       float64\n",
      " 6   Departure Weekday     int64  \n",
      " 7   Return Weekday        int64  \n",
      " 8   Departure Hour        int64  \n",
      " 9   Departure Month       int64  \n",
      " 10  Return Hour           int64  \n",
      " 11  Return Month          int64  \n",
      " 12  Year                  int64  \n",
      " 13  Departure Day         int64  \n",
      " 14  Return Day            int64  \n",
      "dtypes: float64(2), int64(11), object(2)\n",
      "memory usage: 2.1+ GB\n",
      "None\n"
     ]
    }
   ],
   "source": [
    "print(df.info())\n",
    "failed = []\n",
    "'''\n",
    "for u in df[\"Return station id\"].unique():\n",
    "    try:\n",
    "        int(u)\n",
    "    except:\n",
    "        failed.append(u)\n",
    "print(failed)\n",
    "'''\n",
    "df[\"Return station id\"] = df[\"Return station id\"].map({\"*71\":71,\"*88\":88}).fillna(df[\"Return station id\"])\n",
    "\n",
    "df[\"Departure station id\"] = df[\"Departure station id\"].map({\"*71\":71,\"*88\":88}).fillna(df[\"Departure station id\"])\n"
   ]
  },
  {
   "cell_type": "code",
   "execution_count": 54,
   "metadata": {},
   "outputs": [
    {
     "name": "stdout",
     "output_type": "stream",
     "text": [
      "Departure               0\n",
      "Return                  0\n",
      "Departure station id    0\n",
      "Return station id       0\n",
      "Covered distance (m)    0\n",
      "Duration (sec.)         0\n",
      "Departure Weekday       0\n",
      "Return Weekday          0\n",
      "Departure Hour          0\n",
      "Departure Month         0\n",
      "Return Hour             0\n",
      "Return Month            0\n",
      "Year                    0\n",
      "Departure Day           0\n",
      "Return Day              0\n",
      "dtype: int64\n"
     ]
    }
   ],
   "source": [
    "def to_int(itm):\n",
    "    try:\n",
    "        return int(itm)\n",
    "    except:\n",
    "        return np.nan\n",
    "\n",
    "df[\"Departure station id\"] = df[\"Departure station id\"].apply(to_int)\n",
    "\n",
    "df[\"Return station id\"] = df[\"Return station id\"].apply(to_int)\n",
    "print(df.isna().sum())\n"
   ]
  },
  {
   "cell_type": "code",
   "execution_count": 21,
   "metadata": {},
   "outputs": [
    {
     "name": "stdout",
     "output_type": "stream",
     "text": [
      "(19732128, 17)\n",
      "(19400926, 17)\n",
      "Departure                 0\n",
      "Return                    0\n",
      "Departure station id      0\n",
      "Departure station name    0\n",
      "Return station id         0\n",
      "Return station name       0\n",
      "Covered distance (m)      0\n",
      "Duration (sec.)           0\n",
      "Departure Weekday         0\n",
      "Return Weekday            0\n",
      "Departure Hour            0\n",
      "Departure Month           0\n",
      "Return Hour               0\n",
      "Return Month              0\n",
      "Year                      0\n",
      "Departure Day             0\n",
      "Return Day                0\n",
      "dtype: int64\n"
     ]
    }
   ],
   "source": [
    "print(df.shape)\n",
    "df.dropna(inplace=True)\n",
    "print(df.shape)\n",
    "print(df.isna().sum())\n"
   ]
  },
  {
   "cell_type": "code",
   "execution_count": 24,
   "metadata": {},
   "outputs": [
    {
     "name": "stdout",
     "output_type": "stream",
     "text": [
      "<class 'pandas.core.frame.DataFrame'>\n",
      "Index: 19400926 entries, 64620 to 19732127\n",
      "Data columns (total 15 columns):\n",
      " #   Column                Dtype  \n",
      "---  ------                -----  \n",
      " 0   Departure             object \n",
      " 1   Return                object \n",
      " 2   Departure station id  float64\n",
      " 3   Return station id     float64\n",
      " 4   Covered distance (m)  float64\n",
      " 5   Duration (sec.)       float64\n",
      " 6   Departure Weekday     int64  \n",
      " 7   Return Weekday        int64  \n",
      " 8   Departure Hour        int64  \n",
      " 9   Departure Month       int64  \n",
      " 10  Return Hour           int64  \n",
      " 11  Return Month          int64  \n",
      " 12  Year                  int64  \n",
      " 13  Departure Day         int64  \n",
      " 14  Return Day            int64  \n",
      "dtypes: float64(4), int64(9), object(2)\n",
      "memory usage: 2.3+ GB\n",
      "None\n"
     ]
    }
   ],
   "source": [
    "df.drop([\"Departure station name\",\"Return station name\"], axis=1, inplace=True)\n",
    "print(df.info())\n"
   ]
  },
  {
   "cell_type": "code",
   "execution_count": 27,
   "metadata": {},
   "outputs": [
    {
     "name": "stdout",
     "output_type": "stream",
     "text": [
      "<class 'pandas.core.frame.DataFrame'>\n",
      "Index: 19400926 entries, 64620 to 19732127\n",
      "Data columns (total 15 columns):\n",
      " #   Column                Dtype  \n",
      "---  ------                -----  \n",
      " 0   Departure             object \n",
      " 1   Return                object \n",
      " 2   Departure station id  int64  \n",
      " 3   Return station id     int64  \n",
      " 4   Covered distance (m)  float64\n",
      " 5   Duration (sec.)       float64\n",
      " 6   Departure Weekday     int64  \n",
      " 7   Return Weekday        int64  \n",
      " 8   Departure Hour        int64  \n",
      " 9   Departure Month       int64  \n",
      " 10  Return Hour           int64  \n",
      " 11  Return Month          int64  \n",
      " 12  Year                  int64  \n",
      " 13  Departure Day         int64  \n",
      " 14  Return Day            int64  \n",
      "dtypes: float64(2), int64(11), object(2)\n",
      "memory usage: 2.3+ GB\n",
      "None\n"
     ]
    }
   ],
   "source": [
    "df[\"Departure station id\"] = df[\"Departure station id\"].astype(int)\n",
    "df[\"Return station id\"] = df[\"Return station id\"].astype(int)\n",
    "\n",
    "print(df.info())\n"
   ]
  },
  {
   "cell_type": "code",
   "execution_count": 55,
   "metadata": {},
   "outputs": [],
   "source": [
    "temp_dep = df.groupby([\"Departure station id\",\"Year\", \"Departure Month\", \"Departure Day\", \"Departure Hour\", \"Departure Weekday\"])[\"Covered distance (m)\"].count().reset_index(name=\"Departure count\")\n",
    "temp_ret = df.groupby([\"Return station id\",\"Year\", \"Return Month\", \"Return Day\", \"Return Hour\", \"Return Weekday\"])[\"Covered distance (m)\"].count().reset_index(name=\"Return count\")\n"
   ]
  },
  {
   "cell_type": "code",
   "execution_count": 56,
   "metadata": {},
   "outputs": [],
   "source": [
    "train_df = pd.merge(temp_dep, temp_ret, \n",
    "                     left_on=['Departure station id', 'Departure Month', 'Departure Day', 'Departure Weekday', 'Departure Hour'],\n",
    "                     right_on=['Return station id', 'Return Month', 'Return Day', 'Return Weekday', 'Return Hour'],\n",
    "                     suffixes=('_departure', '_return'),\n",
    "                     how='outer')\n"
   ]
  },
  {
   "cell_type": "code",
   "execution_count": 57,
   "metadata": {},
   "outputs": [
    {
     "data": {
      "text/html": [
       "<div>\n",
       "<style scoped>\n",
       "    .dataframe tbody tr th:only-of-type {\n",
       "        vertical-align: middle;\n",
       "    }\n",
       "\n",
       "    .dataframe tbody tr th {\n",
       "        vertical-align: top;\n",
       "    }\n",
       "\n",
       "    .dataframe thead th {\n",
       "        text-align: right;\n",
       "    }\n",
       "</style>\n",
       "<table border=\"1\" class=\"dataframe\">\n",
       "  <thead>\n",
       "    <tr style=\"text-align: right;\">\n",
       "      <th></th>\n",
       "      <th>Station id</th>\n",
       "      <th>Year</th>\n",
       "      <th>Month</th>\n",
       "      <th>Day</th>\n",
       "      <th>Hour</th>\n",
       "      <th>Weekday</th>\n",
       "      <th>Departure count</th>\n",
       "      <th>Return count</th>\n",
       "    </tr>\n",
       "  </thead>\n",
       "  <tbody>\n",
       "    <tr>\n",
       "      <th>0</th>\n",
       "      <td>1.0</td>\n",
       "      <td>2017.0</td>\n",
       "      <td>5.0</td>\n",
       "      <td>2.0</td>\n",
       "      <td>9.0</td>\n",
       "      <td>1.0</td>\n",
       "      <td>3.0</td>\n",
       "      <td>0.0</td>\n",
       "    </tr>\n",
       "    <tr>\n",
       "      <th>1</th>\n",
       "      <td>1.0</td>\n",
       "      <td>2023.0</td>\n",
       "      <td>5.0</td>\n",
       "      <td>2.0</td>\n",
       "      <td>9.0</td>\n",
       "      <td>1.0</td>\n",
       "      <td>4.0</td>\n",
       "      <td>0.0</td>\n",
       "    </tr>\n",
       "    <tr>\n",
       "      <th>2</th>\n",
       "      <td>1.0</td>\n",
       "      <td>2017.0</td>\n",
       "      <td>5.0</td>\n",
       "      <td>2.0</td>\n",
       "      <td>10.0</td>\n",
       "      <td>1.0</td>\n",
       "      <td>1.0</td>\n",
       "      <td>2.0</td>\n",
       "    </tr>\n",
       "    <tr>\n",
       "      <th>3</th>\n",
       "      <td>1.0</td>\n",
       "      <td>2017.0</td>\n",
       "      <td>5.0</td>\n",
       "      <td>2.0</td>\n",
       "      <td>12.0</td>\n",
       "      <td>1.0</td>\n",
       "      <td>1.0</td>\n",
       "      <td>2.0</td>\n",
       "    </tr>\n",
       "    <tr>\n",
       "      <th>4</th>\n",
       "      <td>1.0</td>\n",
       "      <td>2017.0</td>\n",
       "      <td>5.0</td>\n",
       "      <td>2.0</td>\n",
       "      <td>12.0</td>\n",
       "      <td>1.0</td>\n",
       "      <td>1.0</td>\n",
       "      <td>2.0</td>\n",
       "    </tr>\n",
       "  </tbody>\n",
       "</table>\n",
       "</div>"
      ],
      "text/plain": [
       "   Station id    Year  Month  Day  Hour  Weekday  Departure count  \\\n",
       "0         1.0  2017.0    5.0  2.0   9.0      1.0              3.0   \n",
       "1         1.0  2023.0    5.0  2.0   9.0      1.0              4.0   \n",
       "2         1.0  2017.0    5.0  2.0  10.0      1.0              1.0   \n",
       "3         1.0  2017.0    5.0  2.0  12.0      1.0              1.0   \n",
       "4         1.0  2017.0    5.0  2.0  12.0      1.0              1.0   \n",
       "\n",
       "   Return count  \n",
       "0           0.0  \n",
       "1           0.0  \n",
       "2           2.0  \n",
       "3           2.0  \n",
       "4           2.0  "
      ]
     },
     "execution_count": 57,
     "metadata": {},
     "output_type": "execute_result"
    }
   ],
   "source": [
    "train_df = train_df.drop(['Year_return','Return station id', 'Return Month', 'Return Day', 'Return Weekday', 'Return Hour'], axis=1)\n",
    "train_df = train_df.rename(columns={'Departure station id': 'Station id',\n",
    "                                                'Departure Month': 'Month',\n",
    "                                                'Departure Day': 'Day',\n",
    "                                                'Departure Weekday': 'Weekday',\n",
    "                                                'Departure Hour': 'Hour',\n",
    "                                                'Year_departure':'Year'})\n",
    "train_df.fillna(0, inplace=True)\n",
    "train_df.head()\n"
   ]
  },
  {
   "cell_type": "code",
   "execution_count": 34,
   "metadata": {},
   "outputs": [],
   "source": [
    "train_df = train_df.drop(['Year_return'], axis=1)\n",
    "train_df = train_df.rename(columns={'Year_departure':'Year'})\n"
   ]
  },
  {
   "cell_type": "code",
   "execution_count": 35,
   "metadata": {},
   "outputs": [
    {
     "data": {
      "text/html": [
       "<div>\n",
       "<style scoped>\n",
       "    .dataframe tbody tr th:only-of-type {\n",
       "        vertical-align: middle;\n",
       "    }\n",
       "\n",
       "    .dataframe tbody tr th {\n",
       "        vertical-align: top;\n",
       "    }\n",
       "\n",
       "    .dataframe thead th {\n",
       "        text-align: right;\n",
       "    }\n",
       "</style>\n",
       "<table border=\"1\" class=\"dataframe\">\n",
       "  <thead>\n",
       "    <tr style=\"text-align: right;\">\n",
       "      <th></th>\n",
       "      <th>Station id</th>\n",
       "      <th>Year</th>\n",
       "      <th>Month</th>\n",
       "      <th>Day</th>\n",
       "      <th>Hour</th>\n",
       "      <th>Weekday</th>\n",
       "      <th>Departure count</th>\n",
       "      <th>Return count</th>\n",
       "    </tr>\n",
       "  </thead>\n",
       "  <tbody>\n",
       "    <tr>\n",
       "      <th>0</th>\n",
       "      <td>1.0</td>\n",
       "      <td>2017.0</td>\n",
       "      <td>5.0</td>\n",
       "      <td>2.0</td>\n",
       "      <td>9.0</td>\n",
       "      <td>1.0</td>\n",
       "      <td>3.0</td>\n",
       "      <td>0.0</td>\n",
       "    </tr>\n",
       "    <tr>\n",
       "      <th>1</th>\n",
       "      <td>1.0</td>\n",
       "      <td>2023.0</td>\n",
       "      <td>5.0</td>\n",
       "      <td>2.0</td>\n",
       "      <td>9.0</td>\n",
       "      <td>1.0</td>\n",
       "      <td>4.0</td>\n",
       "      <td>0.0</td>\n",
       "    </tr>\n",
       "    <tr>\n",
       "      <th>2</th>\n",
       "      <td>1.0</td>\n",
       "      <td>2017.0</td>\n",
       "      <td>5.0</td>\n",
       "      <td>2.0</td>\n",
       "      <td>10.0</td>\n",
       "      <td>1.0</td>\n",
       "      <td>1.0</td>\n",
       "      <td>2.0</td>\n",
       "    </tr>\n",
       "    <tr>\n",
       "      <th>3</th>\n",
       "      <td>1.0</td>\n",
       "      <td>2017.0</td>\n",
       "      <td>5.0</td>\n",
       "      <td>2.0</td>\n",
       "      <td>12.0</td>\n",
       "      <td>1.0</td>\n",
       "      <td>1.0</td>\n",
       "      <td>2.0</td>\n",
       "    </tr>\n",
       "    <tr>\n",
       "      <th>4</th>\n",
       "      <td>1.0</td>\n",
       "      <td>2017.0</td>\n",
       "      <td>5.0</td>\n",
       "      <td>2.0</td>\n",
       "      <td>12.0</td>\n",
       "      <td>1.0</td>\n",
       "      <td>1.0</td>\n",
       "      <td>2.0</td>\n",
       "    </tr>\n",
       "  </tbody>\n",
       "</table>\n",
       "</div>"
      ],
      "text/plain": [
       "   Station id    Year  Month  Day  Hour  Weekday  Departure count  \\\n",
       "0         1.0  2017.0    5.0  2.0   9.0      1.0              3.0   \n",
       "1         1.0  2023.0    5.0  2.0   9.0      1.0              4.0   \n",
       "2         1.0  2017.0    5.0  2.0  10.0      1.0              1.0   \n",
       "3         1.0  2017.0    5.0  2.0  12.0      1.0              1.0   \n",
       "4         1.0  2017.0    5.0  2.0  12.0      1.0              1.0   \n",
       "\n",
       "   Return count  \n",
       "0           0.0  \n",
       "1           0.0  \n",
       "2           2.0  \n",
       "3           2.0  \n",
       "4           2.0  "
      ]
     },
     "execution_count": 35,
     "metadata": {},
     "output_type": "execute_result"
    }
   ],
   "source": [
    "train_df.head()\n"
   ]
  },
  {
   "cell_type": "code",
   "execution_count": 58,
   "metadata": {},
   "outputs": [],
   "source": [
    "#df[[\"Departure Count\", \"Return Count\"]] = df[[\"Departure Count\", \"Return Count\"]].astype(int)\n",
    "X = train_df[[\"Year\",\"Station id\",\"Month\", \"Day\", \"Weekday\", \"Hour\"]]\n",
    "y = train_df[[\"Departure count\", \"Return count\"]]\n",
    "\n",
    "X_train, X_test, y_train, y_test = train_test_split(X, y, test_size=0.1, random_state=42)\n"
   ]
  },
  {
   "cell_type": "code",
   "execution_count": 26,
   "metadata": {},
   "outputs": [],
   "source": [
    "model = RandomForestRegressor(n_estimators=25, random_state=42)\n",
    "model.fit(X_train, y_train)\n",
    "y_pred = model.predict(X_test)\n"
   ]
  },
  {
   "cell_type": "code",
   "execution_count": 65,
   "metadata": {},
   "outputs": [],
   "source": [
    "import xgboost as xgb\n",
    "xbgr = xgb.XGBRegressor(n_estimators=2000).fit(X_train,y_train)\n",
    "y_pred2 = xbgr.predict(X_test)\n"
   ]
  },
  {
   "cell_type": "code",
   "execution_count": 60,
   "metadata": {},
   "outputs": [
    {
     "name": "stdout",
     "output_type": "stream",
     "text": [
      "[LightGBM] [Warning] Found whitespace in feature_names, replace with underlines\n",
      "[LightGBM] [Info] Auto-choosing row-wise multi-threading, the overhead of testing was 0.072340 seconds.\n",
      "You can set `force_row_wise=true` to remove the overhead.\n",
      "And if memory is not enough, you can set `force_col_wise=true`.\n",
      "[LightGBM] [Info] Total Bins 332\n",
      "[LightGBM] [Info] Number of data points in the train set: 6616269, number of used features: 6\n",
      "[LightGBM] [Info] Start training from score 2.828513\n",
      "[LightGBM] [Warning] Found whitespace in feature_names, replace with underlines\n",
      "[LightGBM] [Info] Auto-choosing row-wise multi-threading, the overhead of testing was 0.060117 seconds.\n",
      "You can set `force_row_wise=true` to remove the overhead.\n",
      "And if memory is not enough, you can set `force_col_wise=true`.\n",
      "[LightGBM] [Info] Total Bins 332\n",
      "[LightGBM] [Info] Number of data points in the train set: 6616269, number of used features: 6\n",
      "[LightGBM] [Info] Start training from score 2.828735\n"
     ]
    }
   ],
   "source": [
    "import lightgbm as lgbm\n",
    "from sklearn.multioutput import MultiOutputRegressor\n",
    "lgbmr = MultiOutputRegressor(lgbm.LGBMRegressor(n_estimators=4000)).fit(X_train,y_train)\n",
    "y_pred3 = lgbmr.predict(X_test)\n"
   ]
  },
  {
   "cell_type": "code",
   "execution_count": 61,
   "metadata": {},
   "outputs": [],
   "source": [
    "dummy = DummyRegressor(strategy=\"mean\")\n",
    "dummy.fit(X_train, y_train)\n",
    "dummy_pred = dummy.predict(X_test)\n"
   ]
  },
  {
   "cell_type": "code",
   "execution_count": 67,
   "metadata": {},
   "outputs": [
    {
     "name": "stderr",
     "output_type": "stream",
     "text": [
      "[I 2024-10-12 14:02:16,915] A new study created in memory with name: no-name-2e808d4b-03bd-42a6-ad5a-ed011b755a6b\n",
      "[I 2024-10-12 14:02:19,448] Trial 0 finished with value: 1.2725445610725967 and parameters: {'y_pred2': 37, 'y_pred3': 97}. Best is trial 0 with value: 1.2725445610725967.\n",
      "[I 2024-10-12 14:02:21,914] Trial 1 finished with value: 1.2764987006038055 and parameters: {'y_pred2': 73, 'y_pred3': 61}. Best is trial 0 with value: 1.2725445610725967.\n",
      "[I 2024-10-12 14:02:24,375] Trial 2 finished with value: 1.2752159507453966 and parameters: {'y_pred2': 16, 'y_pred3': 16}. Best is trial 0 with value: 1.2725445610725967.\n",
      "[I 2024-10-12 14:02:26,904] Trial 3 finished with value: 1.2767501332214788 and parameters: {'y_pred2': 4, 'y_pred3': 88}. Best is trial 0 with value: 1.2725445610725967.\n",
      "[I 2024-10-12 14:02:29,342] Trial 4 finished with value: 1.2741762372058822 and parameters: {'y_pred2': 61, 'y_pred3': 73}. Best is trial 0 with value: 1.2725445610725967.\n",
      "[I 2024-10-12 14:02:31,790] Trial 5 finished with value: 1.2779608923233985 and parameters: {'y_pred2': 1, 'y_pred3': 97}. Best is trial 0 with value: 1.2725445610725967.\n",
      "[I 2024-10-12 14:02:34,286] Trial 6 finished with value: 1.2880800605038298 and parameters: {'y_pred2': 85, 'y_pred3': 22}. Best is trial 0 with value: 1.2725445610725967.\n",
      "[I 2024-10-12 14:02:36,771] Trial 7 finished with value: 1.2752159507198164 and parameters: {'y_pred2': 19, 'y_pred3': 19}. Best is trial 0 with value: 1.2725445610725967.\n",
      "[I 2024-10-12 14:02:39,393] Trial 8 finished with value: 1.2729198599212868 and parameters: {'y_pred2': 31, 'y_pred3': 52}. Best is trial 0 with value: 1.2725445610725967.\n",
      "[I 2024-10-12 14:02:41,882] Trial 9 finished with value: 1.2786317897171537 and parameters: {'y_pred2': 43, 'y_pred3': 28}. Best is trial 0 with value: 1.2725445610725967.\n",
      "[I 2024-10-12 14:02:44,402] Trial 10 finished with value: 1.2767003390505942 and parameters: {'y_pred2': 97, 'y_pred3': 79}. Best is trial 0 with value: 1.2725445610725967.\n",
      "[I 2024-10-12 14:02:46,926] Trial 11 finished with value: 1.2743855339218517 and parameters: {'y_pred2': 40, 'y_pred3': 46}. Best is trial 0 with value: 1.2725445610725967.\n",
      "[I 2024-10-12 14:02:50,016] Trial 12 finished with value: 1.2742643172855561 and parameters: {'y_pred2': 34, 'y_pred3': 40}. Best is trial 0 with value: 1.2725445610725967.\n",
      "[I 2024-10-12 14:02:53,178] Trial 13 finished with value: 1.2743222457696712 and parameters: {'y_pred2': 55, 'y_pred3': 64}. Best is trial 0 with value: 1.2725445610725967.\n",
      "[I 2024-10-12 14:02:56,306] Trial 14 finished with value: 1.3002726361055061 and parameters: {'y_pred2': 28, 'y_pred3': 1}. Best is trial 0 with value: 1.2725445610725967.\n",
      "[I 2024-10-12 14:02:59,458] Trial 15 finished with value: 1.273058006028616 and parameters: {'y_pred2': 61, 'y_pred3': 97}. Best is trial 0 with value: 1.2725445610725967.\n",
      "[I 2024-10-12 14:03:02,597] Trial 16 finished with value: 1.2725473781673085 and parameters: {'y_pred2': 22, 'y_pred3': 58}. Best is trial 0 with value: 1.2725445610725967.\n",
      "[I 2024-10-12 14:03:05,757] Trial 17 finished with value: 1.274183378975477 and parameters: {'y_pred2': 13, 'y_pred3': 82}. Best is trial 0 with value: 1.2725445610725967.\n",
      "[I 2024-10-12 14:03:08,990] Trial 18 finished with value: 1.2731167001053336 and parameters: {'y_pred2': 43, 'y_pred3': 67}. Best is trial 0 with value: 1.2725445610725967.\n",
      "[I 2024-10-12 14:03:12,231] Trial 19 finished with value: 1.2725405522171334 and parameters: {'y_pred2': 25, 'y_pred3': 55}. Best is trial 19 with value: 1.2725405522171334.\n",
      "[I 2024-10-12 14:03:15,384] Trial 20 finished with value: 1.2785938086146609 and parameters: {'y_pred2': 52, 'y_pred3': 34}. Best is trial 19 with value: 1.2725405522171334.\n",
      "[I 2024-10-12 14:03:18,505] Trial 21 finished with value: 1.2725405522171334 and parameters: {'y_pred2': 25, 'y_pred3': 55}. Best is trial 19 with value: 1.2725405522171334.\n",
      "[I 2024-10-12 14:03:21,734] Trial 22 finished with value: 1.2735668363963355 and parameters: {'y_pred2': 10, 'y_pred3': 49}. Best is trial 19 with value: 1.2725405522171334.\n",
      "[I 2024-10-12 14:03:24,768] Trial 23 finished with value: 1.272625278359884 and parameters: {'y_pred2': 25, 'y_pred3': 73}. Best is trial 19 with value: 1.2725405522171334.\n",
      "[I 2024-10-12 14:03:27,790] Trial 24 finished with value: 1.2747346833088922 and parameters: {'y_pred2': 37, 'y_pred3': 40}. Best is trial 19 with value: 1.2725405522171334.\n",
      "[I 2024-10-12 14:03:30,823] Trial 25 finished with value: 1.2726708657041668 and parameters: {'y_pred2': 46, 'y_pred3': 88}. Best is trial 19 with value: 1.2725405522171334.\n",
      "[I 2024-10-12 14:03:33,851] Trial 26 finished with value: 1.2727987757307704 and parameters: {'y_pred2': 31, 'y_pred3': 55}. Best is trial 19 with value: 1.2725405522171334.\n",
      "[I 2024-10-12 14:03:36,902] Trial 27 finished with value: 1.273403237795935 and parameters: {'y_pred2': 7, 'y_pred3': 10}. Best is trial 19 with value: 1.2725405522171334.\n",
      "[I 2024-10-12 14:03:40,099] Trial 28 finished with value: 1.2726715559459971 and parameters: {'y_pred2': 22, 'y_pred3': 67}. Best is trial 19 with value: 1.2725405522171334.\n",
      "[I 2024-10-12 14:03:43,242] Trial 29 finished with value: 1.2734032359126812 and parameters: {'y_pred2': 70, 'y_pred3': 100}. Best is trial 19 with value: 1.2725405522171334.\n",
      "[I 2024-10-12 14:03:46,517] Trial 30 finished with value: 1.2761261591391522 and parameters: {'y_pred2': 49, 'y_pred3': 43}. Best is trial 19 with value: 1.2725405522171334.\n",
      "[I 2024-10-12 14:03:49,739] Trial 31 finished with value: 1.2725473781673085 and parameters: {'y_pred2': 22, 'y_pred3': 58}. Best is trial 19 with value: 1.2725405522171334.\n",
      "[I 2024-10-12 14:03:52,848] Trial 32 finished with value: 1.2730260218113547 and parameters: {'y_pred2': 16, 'y_pred3': 61}. Best is trial 19 with value: 1.2725405522171334.\n",
      "[I 2024-10-12 14:03:55,915] Trial 33 finished with value: 1.2745968722307452 and parameters: {'y_pred2': 28, 'y_pred3': 31}. Best is trial 19 with value: 1.2725405522171334.\n",
      "[I 2024-10-12 14:03:58,971] Trial 34 finished with value: 1.2739946630856531 and parameters: {'y_pred2': 13, 'y_pred3': 76}. Best is trial 19 with value: 1.2725405522171334.\n",
      "[I 2024-10-12 14:04:02,017] Trial 35 finished with value: 1.2725387146454685 and parameters: {'y_pred2': 34, 'y_pred3': 88}. Best is trial 35 with value: 1.2725387146454685.\n",
      "[I 2024-10-12 14:04:05,067] Trial 36 finished with value: 1.2725238723324512 and parameters: {'y_pred2': 37, 'y_pred3': 91}. Best is trial 36 with value: 1.2725238723324512.\n",
      "[I 2024-10-12 14:04:08,113] Trial 37 finished with value: 1.2725557345689442 and parameters: {'y_pred2': 34, 'y_pred3': 91}. Best is trial 36 with value: 1.2725238723324512.\n",
      "[I 2024-10-12 14:04:11,211] Trial 38 finished with value: 1.2725257601072832 and parameters: {'y_pred2': 37, 'y_pred3': 85}. Best is trial 36 with value: 1.2725238723324512.\n",
      "[I 2024-10-12 14:04:14,352] Trial 39 finished with value: 1.2725257601072832 and parameters: {'y_pred2': 37, 'y_pred3': 85}. Best is trial 36 with value: 1.2725238723324512.\n",
      "[I 2024-10-12 14:04:17,502] Trial 40 finished with value: 1.2733126793594463 and parameters: {'y_pred2': 58, 'y_pred3': 85}. Best is trial 36 with value: 1.2725238723324512.\n",
      "[I 2024-10-12 14:04:20,635] Trial 41 finished with value: 1.272528176893894 and parameters: {'y_pred2': 40, 'y_pred3': 91}. Best is trial 36 with value: 1.2725238723324512.\n",
      "[I 2024-10-12 14:04:23,788] Trial 42 finished with value: 1.2725436420251852 and parameters: {'y_pred2': 43, 'y_pred3': 94}. Best is trial 36 with value: 1.2725238723324512.\n",
      "[I 2024-10-12 14:04:26,976] Trial 43 finished with value: 1.2725238723324512 and parameters: {'y_pred2': 37, 'y_pred3': 91}. Best is trial 36 with value: 1.2725238723324512.\n",
      "[I 2024-10-12 14:04:30,102] Trial 44 finished with value: 1.2729254600260522 and parameters: {'y_pred2': 49, 'y_pred3': 82}. Best is trial 36 with value: 1.2725238723324512.\n",
      "[I 2024-10-12 14:04:33,189] Trial 45 finished with value: 1.2725271775319764 and parameters: {'y_pred2': 40, 'y_pred3': 100}. Best is trial 36 with value: 1.2725238723324512.\n",
      "[I 2024-10-12 14:04:36,303] Trial 46 finished with value: 1.2725317628871728 and parameters: {'y_pred2': 37, 'y_pred3': 94}. Best is trial 36 with value: 1.2725238723324512.\n",
      "[I 2024-10-12 14:04:39,410] Trial 47 finished with value: 1.2739778536289794 and parameters: {'y_pred2': 61, 'y_pred3': 76}. Best is trial 36 with value: 1.2725238723324512.\n",
      "[I 2024-10-12 14:04:42,498] Trial 48 finished with value: 1.2725465647071883 and parameters: {'y_pred2': 46, 'y_pred3': 100}. Best is trial 36 with value: 1.2725238723324512.\n",
      "[I 2024-10-12 14:04:45,767] Trial 49 finished with value: 1.274064043189448 and parameters: {'y_pred2': 67, 'y_pred3': 82}. Best is trial 36 with value: 1.2725238723324512.\n",
      "[I 2024-10-12 14:04:49,028] Trial 50 finished with value: 1.2748056760327504 and parameters: {'y_pred2': 88, 'y_pred3': 94}. Best is trial 36 with value: 1.2725238723324512.\n",
      "[I 2024-10-12 14:04:52,223] Trial 51 finished with value: 1.272528176893894 and parameters: {'y_pred2': 40, 'y_pred3': 91}. Best is trial 36 with value: 1.2725238723324512.\n",
      "[I 2024-10-12 14:04:55,433] Trial 52 finished with value: 1.2725271775319764 and parameters: {'y_pred2': 40, 'y_pred3': 100}. Best is trial 36 with value: 1.2725238723324512.\n",
      "[I 2024-10-12 14:04:58,531] Trial 53 finished with value: 1.2727469438406698 and parameters: {'y_pred2': 31, 'y_pred3': 100}. Best is trial 36 with value: 1.2725238723324512.\n",
      "[I 2024-10-12 14:05:01,581] Trial 54 finished with value: 1.2731411260465968 and parameters: {'y_pred2': 55, 'y_pred3': 85}. Best is trial 36 with value: 1.2725238723324512.\n",
      "[I 2024-10-12 14:05:04,736] Trial 55 finished with value: 1.2725445610725967 and parameters: {'y_pred2': 37, 'y_pred3': 97}. Best is trial 36 with value: 1.2725238723324512.\n",
      "[I 2024-10-12 14:05:07,769] Trial 56 finished with value: 1.2726708657041668 and parameters: {'y_pred2': 46, 'y_pred3': 88}. Best is trial 36 with value: 1.2725238723324512.\n",
      "[I 2024-10-12 14:05:10,883] Trial 57 finished with value: 1.2727091315024577 and parameters: {'y_pred2': 52, 'y_pred3': 97}. Best is trial 36 with value: 1.2725238723324512.\n",
      "[I 2024-10-12 14:05:13,905] Trial 58 finished with value: 1.272826444246921 and parameters: {'y_pred2': 40, 'y_pred3': 70}. Best is trial 36 with value: 1.2725238723324512.\n",
      "[I 2024-10-12 14:05:16,974] Trial 59 finished with value: 1.2725936499651258 and parameters: {'y_pred2': 28, 'y_pred3': 79}. Best is trial 36 with value: 1.2725238723324512.\n",
      "[I 2024-10-12 14:05:20,085] Trial 60 finished with value: 1.2725271784572736 and parameters: {'y_pred2': 34, 'y_pred3': 85}. Best is trial 36 with value: 1.2725238723324512.\n",
      "[I 2024-10-12 14:05:23,206] Trial 61 finished with value: 1.2725715198198304 and parameters: {'y_pred2': 31, 'y_pred3': 85}. Best is trial 36 with value: 1.2725238723324512.\n",
      "[I 2024-10-12 14:05:26,401] Trial 62 finished with value: 1.2725634516492208 and parameters: {'y_pred2': 43, 'y_pred3': 91}. Best is trial 36 with value: 1.2725238723324512.\n",
      "[I 2024-10-12 14:05:29,554] Trial 63 finished with value: 1.2725236301774099 and parameters: {'y_pred2': 34, 'y_pred3': 79}. Best is trial 63 with value: 1.2725236301774099.\n",
      "[I 2024-10-12 14:05:32,789] Trial 64 finished with value: 1.2725573863849697 and parameters: {'y_pred2': 37, 'y_pred3': 79}. Best is trial 63 with value: 1.2725236301774099.\n",
      "[I 2024-10-12 14:05:35,934] Trial 65 finished with value: 1.2725436420251852 and parameters: {'y_pred2': 43, 'y_pred3': 94}. Best is trial 63 with value: 1.2725236301774099.\n",
      "[I 2024-10-12 14:05:39,085] Trial 66 finished with value: 1.2729071610952791 and parameters: {'y_pred2': 28, 'y_pred3': 100}. Best is trial 63 with value: 1.2725236301774099.\n",
      "[I 2024-10-12 14:05:42,211] Trial 67 finished with value: 1.2731303210608402 and parameters: {'y_pred2': 49, 'y_pred3': 76}. Best is trial 63 with value: 1.2725236301774099.\n",
      "[I 2024-10-12 14:05:45,313] Trial 68 finished with value: 1.2725387146454685 and parameters: {'y_pred2': 34, 'y_pred3': 88}. Best is trial 63 with value: 1.2725236301774099.\n",
      "[I 2024-10-12 14:05:48,354] Trial 69 finished with value: 1.27252212155611 and parameters: {'y_pred2': 40, 'y_pred3': 97}. Best is trial 69 with value: 1.27252212155611.\n",
      "[I 2024-10-12 14:05:51,529] Trial 70 finished with value: 1.272592595683244 and parameters: {'y_pred2': 46, 'y_pred3': 94}. Best is trial 69 with value: 1.27252212155611.\n",
      "[I 2024-10-12 14:05:54,743] Trial 71 finished with value: 1.2725271775319764 and parameters: {'y_pred2': 40, 'y_pred3': 100}. Best is trial 69 with value: 1.27252212155611.\n",
      "[I 2024-10-12 14:05:57,775] Trial 72 finished with value: 1.2725445610725967 and parameters: {'y_pred2': 37, 'y_pred3': 97}. Best is trial 69 with value: 1.27252212155611.\n",
      "[I 2024-10-12 14:06:00,868] Trial 73 finished with value: 1.27263066574083 and parameters: {'y_pred2': 31, 'y_pred3': 91}. Best is trial 69 with value: 1.27252212155611.\n",
      "[I 2024-10-12 14:06:03,981] Trial 74 finished with value: 1.2729998783121554 and parameters: {'y_pred2': 25, 'y_pred3': 94}. Best is trial 69 with value: 1.27252212155611.\n",
      "[I 2024-10-12 14:06:07,129] Trial 75 finished with value: 1.2732787980602773 and parameters: {'y_pred2': 19, 'y_pred3': 82}. Best is trial 69 with value: 1.27252212155611.\n",
      "[I 2024-10-12 14:06:10,360] Trial 76 finished with value: 1.27252212155611 and parameters: {'y_pred2': 40, 'y_pred3': 97}. Best is trial 69 with value: 1.27252212155611.\n",
      "[I 2024-10-12 14:06:13,510] Trial 77 finished with value: 1.272591195208614 and parameters: {'y_pred2': 43, 'y_pred3': 88}. Best is trial 69 with value: 1.27252212155611.\n",
      "[I 2024-10-12 14:06:16,645] Trial 78 finished with value: 1.2736929648491495 and parameters: {'y_pred2': 55, 'y_pred3': 73}. Best is trial 69 with value: 1.27252212155611.\n",
      "[I 2024-10-12 14:06:19,871] Trial 79 finished with value: 1.2725271784572736 and parameters: {'y_pred2': 34, 'y_pred3': 85}. Best is trial 69 with value: 1.27252212155611.\n",
      "[I 2024-10-12 14:06:23,054] Trial 80 finished with value: 1.272866308100289 and parameters: {'y_pred2': 46, 'y_pred3': 79}. Best is trial 69 with value: 1.27252212155611.\n",
      "[I 2024-10-12 14:06:26,231] Trial 81 finished with value: 1.27252212155611 and parameters: {'y_pred2': 40, 'y_pred3': 97}. Best is trial 69 with value: 1.27252212155611.\n",
      "[I 2024-10-12 14:06:29,391] Trial 82 finished with value: 1.2725445610725967 and parameters: {'y_pred2': 37, 'y_pred3': 97}. Best is trial 69 with value: 1.27252212155611.\n",
      "[I 2024-10-12 14:06:32,529] Trial 83 finished with value: 1.27263066574083 and parameters: {'y_pred2': 31, 'y_pred3': 91}. Best is trial 69 with value: 1.27252212155611.\n",
      "[I 2024-10-12 14:06:35,669] Trial 84 finished with value: 1.2725307277039275 and parameters: {'y_pred2': 43, 'y_pred3': 97}. Best is trial 69 with value: 1.27252212155611.\n",
      "[I 2024-10-12 14:06:38,918] Trial 85 finished with value: 1.2727632201217467 and parameters: {'y_pred2': 52, 'y_pred3': 94}. Best is trial 69 with value: 1.27252212155611.\n",
      "[I 2024-10-12 14:06:42,074] Trial 86 finished with value: 1.2725215546266706 and parameters: {'y_pred2': 37, 'y_pred3': 88}. Best is trial 86 with value: 1.2725215546266706.\n",
      "[I 2024-10-12 14:06:45,199] Trial 87 finished with value: 1.2726282424903417 and parameters: {'y_pred2': 28, 'y_pred3': 82}. Best is trial 86 with value: 1.2725215546266706.\n",
      "[I 2024-10-12 14:06:48,313] Trial 88 finished with value: 1.2725387146454685 and parameters: {'y_pred2': 34, 'y_pred3': 88}. Best is trial 86 with value: 1.2725215546266706.\n",
      "[I 2024-10-12 14:06:51,370] Trial 89 finished with value: 1.27271628332891 and parameters: {'y_pred2': 49, 'y_pred3': 91}. Best is trial 86 with value: 1.2725215546266706.\n",
      "[I 2024-10-12 14:06:54,513] Trial 90 finished with value: 1.2725257601072832 and parameters: {'y_pred2': 37, 'y_pred3': 85}. Best is trial 86 with value: 1.2725215546266706.\n",
      "[I 2024-10-12 14:06:57,577] Trial 91 finished with value: 1.2725257601072832 and parameters: {'y_pred2': 37, 'y_pred3': 85}. Best is trial 86 with value: 1.2725215546266706.\n",
      "[I 2024-10-12 14:07:00,769] Trial 92 finished with value: 1.2725405522614242 and parameters: {'y_pred2': 40, 'y_pred3': 88}. Best is trial 86 with value: 1.2725215546266706.\n",
      "[I 2024-10-12 14:07:03,835] Trial 93 finished with value: 1.2727709325629082 and parameters: {'y_pred2': 25, 'y_pred3': 82}. Best is trial 86 with value: 1.2725215546266706.\n",
      "[I 2024-10-12 14:07:06,969] Trial 94 finished with value: 1.2725557345689442 and parameters: {'y_pred2': 34, 'y_pred3': 91}. Best is trial 86 with value: 1.2725215546266706.\n",
      "[I 2024-10-12 14:07:10,225] Trial 95 finished with value: 1.272705449844986 and parameters: {'y_pred2': 31, 'y_pred3': 97}. Best is trial 86 with value: 1.2725215546266706.\n",
      "[I 2024-10-12 14:07:13,342] Trial 96 finished with value: 1.288425420334796 and parameters: {'y_pred2': 100, 'y_pred3': 25}. Best is trial 86 with value: 1.2725215546266706.\n",
      "[I 2024-10-12 14:07:16,546] Trial 97 finished with value: 1.2728063196561847 and parameters: {'y_pred2': 43, 'y_pred3': 76}. Best is trial 86 with value: 1.2725215546266706.\n",
      "[I 2024-10-12 14:07:19,727] Trial 98 finished with value: 1.2725257601072832 and parameters: {'y_pred2': 37, 'y_pred3': 85}. Best is trial 86 with value: 1.2725215546266706.\n",
      "[I 2024-10-12 14:07:22,955] Trial 99 finished with value: 1.272866308100289 and parameters: {'y_pred2': 46, 'y_pred3': 79}. Best is trial 86 with value: 1.2725215546266706.\n"
     ]
    },
    {
     "name": "stdout",
     "output_type": "stream",
     "text": [
      "Best R2 1.2725215546266706\n",
      "Best params: {'y_pred2': 37, 'y_pred3': 88}\n"
     ]
    }
   ],
   "source": [
    "import optuna\n",
    "from optuna.samplers import TPESampler\n",
    "from sklearn.metrics import mean_absolute_error\n",
    "\n",
    "model_names = [\"y_pred2\", \"y_pred3\"]\n",
    "\n",
    "def objective(trial):\n",
    "    weights = {name : trial.suggest_int(name,1,100,step=3) for name in model_names}\n",
    "    probs = []\n",
    "    probabilities = {name : (weights[name])*eval(name)/sum(weights.values()) for name in model_names}\n",
    "    for i in range(len(probabilities[\"y_pred2\"])):\n",
    "        probs.append(sum([probabilities[name][i] for name in model_names]))\n",
    "        #print(f\"prob {i} ok\")\n",
    "    #print(\"Probs: \",np.array(probs))\n",
    "    mae = mean_absolute_error(y_test, np.array(probs))\n",
    "    #print(\"All ok\")\n",
    "    return mae\n",
    "\n",
    "study = optuna.create_study(\n",
    "    direction   = \"minimize\",\n",
    "    sampler     = TPESampler(seed=42),\n",
    ")\n",
    "study.optimize(objective, n_trials=100)\n",
    "print(\"Best R2\", study.best_value)\n",
    "print(\"Best params:\", study.best_trial.params)\n"
   ]
  },
  {
   "cell_type": "code",
   "execution_count": 66,
   "metadata": {},
   "outputs": [
    {
     "name": "stdout",
     "output_type": "stream",
     "text": [
      "model:   R2:                     MAE:\n",
      "XGB      0.6873897121414434      1.3031354771098738\n",
      "LGBM     0.7030469142366189      1.278363546017562\n",
      "DUMMY    -2.5548121451723915e-07   2.4360178268939032\n"
     ]
    }
   ],
   "source": [
    "#RF\n",
    "print(\"model:   R2:                     MAE:\")\n",
    "#print(\"RF      \",r2_score(y_test, y_pred),\"   \", mean_absolute_error(y_test,y_pred))\n",
    "#XBG\n",
    "print(\"XGB     \",r2_score(y_test, y_pred2),\"    \", mean_absolute_error(y_test,y_pred2))#, r2_score(y_test[\"Return Count\"], y_predr))\n",
    "#LGBM\n",
    "print(\"LGBM    \",r2_score(y_test, y_pred3),\"    \", mean_absolute_error(y_test,y_pred3))\n",
    "\n",
    "print(\"DUMMY   \",r2_score(y_test, dummy_pred),\" \", mean_absolute_error(y_test,dummy_pred))\n",
    "#print(len(y[\"Return Count\"].unique()))\n"
   ]
  },
  {
   "cell_type": "code",
   "execution_count": 46,
   "metadata": {},
   "outputs": [],
   "source": [
    "import pickle\n",
    "#with open(\"RF.pkl\",mode=\"wb\") as fl:\n",
    "#    pickle.dump(model, file=fl)\n",
    "with open(\"XGBR_new.pkl\",mode=\"wb\") as fl:\n",
    "    pickle.dump(xbgr, file=fl)\n",
    "with open(\"LGBMR_new.pkl\",mode=\"wb\") as fl:\n",
    "    pickle.dump(lgbmr, file=fl) \n"
   ]
  }
 ],
 "metadata": {
  "kernelspec": {
   "display_name": "base",
   "language": "python",
   "name": "python3"
  },
  "language_info": {
   "codemirror_mode": {
    "name": "ipython",
    "version": 3
   },
   "file_extension": ".py",
   "mimetype": "text/x-python",
   "name": "python",
   "nbconvert_exporter": "python",
   "pygments_lexer": "ipython3",
   "version": "3.8.18"
  }
 },
 "nbformat": 4,
 "nbformat_minor": 2
}
